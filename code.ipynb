{
  "nbformat": 4,
  "nbformat_minor": 0,
  "metadata": {
    "colab": {
      "provenance": []
    },
    "kernelspec": {
      "name": "python3",
      "display_name": "Python 3"
    },
    "language_info": {
      "name": "python"
    }
  },
  "cells": [
    {
      "cell_type": "code",
      "source": [
        "import PyPDF2\n",
        "from PyPDF2 import PdfReader\n",
        "import docx\n",
        "import re\n",
        "import json\n",
        "import spacy"
      ],
      "metadata": {
        "id": "kZH4Lh8uSwVV"
      },
      "execution_count": 32,
      "outputs": []
    },
    {
      "cell_type": "code",
      "source": [
        "# spaCy English language model\n",
        "nlp = spacy.load(\"en_core_web_sm\")\n",
        "\n",
        "def read_pdf(file_path):\n",
        "  # for reading pdf resume format\n",
        "    with open(file_path, 'rb') as file:\n",
        "        pdf_reader = PdfReader(file)\n",
        "        text = \"\"\n",
        "        for page_num in range(len(pdf_reader.pages)):\n",
        "            page = pdf_reader.pages[page_num]\n",
        "            text += page.extract_text()\n",
        "        return text\n",
        "\n",
        "def read_docx(file_path):\n",
        "  # for reading docx resume format\n",
        "    doc = docx.Document(file_path)\n",
        "    paragraphs = []\n",
        "    for para in doc.paragraphs:\n",
        "        paragraphs.append(para.text)\n",
        "    return \"\\n\".join(paragraphs)"
      ],
      "metadata": {
        "id": "aPgRDCefZRdK"
      },
      "execution_count": 33,
      "outputs": []
    },
    {
      "cell_type": "code",
      "source": [
        "def create_resume_json(file_path):\n",
        "  # output in  json format\n",
        "    text = \"\"\n",
        "    if file_path.endswith(\".pdf\"):\n",
        "        text = read_pdf(file_path)\n",
        "    elif file_path.endswith(\".docx\"):\n",
        "        text = read_docx(file_path)\n",
        "    else:\n",
        "        print(\"Unsupported file format. Please provide a PDF or DOCX file.\")\n",
        "        return None\n",
        "\n",
        "    # Extract basic information\n",
        "    education = extract_education(text)\n",
        "    work_experience = extract_work_experience(text)\n",
        "    certification = extract_certification(text)\n",
        "\n",
        "    # Create JSON data\n",
        "    resume_data = {\n",
        "        \"education\": education,\n",
        "        \"work_experience\": work_experience,\n",
        "        \"certification\": certification\n",
        "        # Add other fields as needed\n",
        "    }\n",
        "\n",
        "    return json.dumps(resume_data, indent=2)"
      ],
      "metadata": {
        "id": "kNWQ5EaJZifh"
      },
      "execution_count": 34,
      "outputs": []
    },
    {
      "cell_type": "code",
      "source": [
        "#  use  case\n",
        "resume_file_path = \"add_path_of_resume\"\n",
        "resume_json = create_resume_json(resume_file_path)\n",
        "print(resume_json)"
      ],
      "metadata": {
        "colab": {
          "base_uri": "https://localhost:8080/"
        },
        "id": "KHCoyvmUS4zh",
        "outputId": "8c1d4e5d-b9bc-4f91-d097-34c1a308027b"
      },
      "execution_count": 36,
      "outputs": [
        {
          "output_type": "stream",
          "name": "stdout",
          "text": [
            "{\n",
            "  \"education\": \"M.sc (Mathematics)\\t(2019-2021)\\nB.U university (Bhopal)\\nB.sc (Mathematics)\\t(2015-2018)\\nGovernment Arts and Commerce College Harda (M.P)\\n\\nProject\\nCovid-19\\nRole of worked: Worked on covid data of different nation. Find the confirmed country, recovered country and death country cases.\\nTools used: MS Excel & Tableau\\nHotel Booking Data\\nRole of worked - Worked on Hotel booking data from City Hotels & Resort Hotel. Booking Status, Customer from Different Countries & others by performing analysis and representing it in graphical form. Find the correlation and draw a heat map from the given data.\\nTools used: Python\\nExploratory Data analysis on:\\nSupply chain analysis.\\n\\nHere is a dataset we collected from a Fashion and Beauty startup. The dataset is based on the supply chain of Makeup product.\\nSolved some complexed questions based on the data set and representedinsight of data.\\nPython libraries such as NumPy, Pandas, Matplotlib, Seaborn are used toperform such analysis.\\nVisualization on:\\n\\nProduct supply Dashboard.\\nThis project contains the data about company\\u2019s product with their sales.\\nCreated Dashboard with the help of Business KPI.\\nI have used Microsoft Power Bi tool for Implementation.\\n\\nHard Skills\\nPython (NumPy, Pandas, Matplotlib, Seaborn)\\t.Hadoop\\nAdvance Excel\\t. Web Scrapping\\nSQL\\t.Tableau\\nInterests\\nMachine Learning\\nPhotography\\nSolving Math Problem\\nSoft Skills\\nTeam work\\nProblem solving and analytical attitude\\nQuick Learner\\nSelf-Declaration\\n. \\u201cI hereby declare that the details and information given above are complete and true to the best of my knowledge\\u201d.\",\n",
            "  \"work_experience\": \"Focus Edumatics Limited Bangalore (Karnataka)- Executive Tutor\\t(Dec\\u201921- Dec 22)\\nOnline tutoring of USA students (WFH)\\nTo train and mentor students of American Schools of grade v to grade XII\\nTo keep an eye on student progress report\\nCommunication between parents and student\\n\\nCYBROM TECHNOLOGY \\u2014 Intern\\nDec 2022 \\u2013 present date\\n\\nSkills like EDA, DATA Visualization and other skills like teamwork Time management and problem solving. Hand-on\\texperience with\\ttools like Tableau, NumPy, Pandas.\\nDid visualization on data using matplotlib and seaborn.\\nWorked over SQL and proficiency in python programming.\\n\\n\\nEducation\\nM.sc (Mathematics)\\t(2019-2021)\\nB.U university (Bhopal)\\nB.sc (Mathematics)\\t(2015-2018)\\nGovernment Arts and Commerce College Harda (M.P)\\n\\nProject\\nCovid-19\\nRole of worked: Worked on covid data of different nation. Find the confirmed country, recovered country and death country cases.\\nTools used: MS Excel & Tableau\\nHotel Booking Data\\nRole of worked - Worked on Hotel booking data from City Hotels & Resort Hotel. Booking Status, Customer from Different Countries & others by performing analysis and representing it in graphical form. Find the correlation and draw a heat map from the given data.\\nTools used: Python\\nExploratory Data analysis on:\\nSupply chain analysis.\\n\\nHere is a dataset we collected from a Fashion and Beauty startup. The dataset is based on the supply chain of Makeup product.\\nSolved some complexed questions based on the data set and representedinsight of data.\\nPython libraries such as NumPy, Pandas, Matplotlib, Seaborn are used toperform such analysis.\\nVisualization on:\\n\\nProduct supply Dashboard.\\nThis project contains the data about company\\u2019s product with their sales.\\nCreated Dashboard with the help of Business KPI.\\nI have used Microsoft Power Bi tool for Implementation.\\n\\nHard Skills\\nPython (NumPy, Pandas, Matplotlib, Seaborn)\\t.Hadoop\\nAdvance Excel\\t. Web Scrapping\\nSQL\\t.Tableau\\nInterests\\nMachine Learning\\nPhotography\\nSolving Math Problem\\nSoft Skills\\nTeam work\\nProblem solving and analytical attitude\\nQuick Learner\\nSelf-Declaration\\n. \\u201cI hereby declare that the details and information given above are complete and true to the best of my knowledge\\u201d.\",\n",
            "  \"certification\": \"\"\n",
            "}\n"
          ]
        }
      ]
    },
    {
      "cell_type": "code",
      "source": [],
      "metadata": {
        "id": "Dz_XqMtDZsNG"
      },
      "execution_count": null,
      "outputs": []
    }
  ]
}